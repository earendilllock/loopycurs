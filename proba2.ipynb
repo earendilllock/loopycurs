{
 "metadata": {
  "name": "proba2"
 },
 "nbformat": 3,
 "nbformat_minor": 0,
 "worksheets": [
  {
   "cells": [
    {
     "cell_type": "markdown",
     "metadata": {},
     "source": [
      "## \u0422\u0435\u0441\u0442\u0438\u0440\u0443\u0435\u043c \u0432\u043e\u0437\u043c\u043e\u0436\u043d\u043e\u0441\u0442\u0438 loopy\n",
      "\n",
      "$c_{ij} = \\sum_{k} a_{ik} b_{kj}$\n",
      "\n",
      "- \u0420\u0430\u0437\u043e\u0431\u0440\u0430\u0442\u044c\u0441\u044f \u0441 \u0437\u0430\u043f\u0443\u0441\u043a\u043e\u043c **\u044f\u0434\u0440\u0430** (kernel)\n",
      "- \u0412\u044b\u044f\u0441\u043d\u0438\u0442\u044c, \u043d\u0430 \u0447\u0435\u043c \u0437\u0430\u043f\u0443\u0441\u043a\u0430\u0435\u0442\u0441\u044f \u043a\u043e\u0434"
     ]
    },
    {
     "cell_type": "code",
     "collapsed": false,
     "input": [
      "import numpy as np\n",
      "import numpy.linalg as la\n",
      "import pyopencl as cl\n",
      "import pyopencl.array as cl_array\n",
      "import loopy as lp"
     ],
     "language": "python",
     "metadata": {},
     "outputs": [],
     "prompt_number": 43
    },
    {
     "cell_type": "code",
     "collapsed": false,
     "input": [
      "def test_nbody(ctx):\n",
      "    order = \"C\"\n",
      "    dtype = np.float32\n",
      "    n=128\n",
      "    r=3\n",
      "    knl = lp.make_kernel(ctx.devices[0],\n",
      "            \"{[i,j,k,s]: 0<=i<%d and 0<=j<%d and 0<=k<%d and 0<=s<%d}\" % (n,n,n,r),\n",
      "           [\n",
      "            #\"ax(j) := sum_float32(k, a[i,j,k] * w[k,s])\",\n",
      "            #\"in := sum_float32(j, ax(j)*v[j,s])\",\n",
      "            #\"f[i,s] = in\",\n",
      "            \"f[i,s] = sum_float32((j,k), a[i,j,k]*v[j,s]*w[k,s])\",\n",
      "            ],\n",
      "            [\n",
      "            lp.GlobalArg(\"a\", dtype, shape=(n, n, n), order=order),\n",
      "            lp.GlobalArg(\"v\", dtype, shape=(n, r), order=order),\n",
      "            lp.GlobalArg(\"w\", dtype, shape=(n, r), order=order),\n",
      "            lp.GlobalArg(\"f\", dtype, shape=(n, r), order=order),\n",
      "            ],\n",
      "            name=\"pravaya\")\n",
      "\n",
      "    seq_knl = knl\n",
      "    return knl\n",
      "\n"
     ],
     "language": "python",
     "metadata": {},
     "outputs": [],
     "prompt_number": 91
    },
    {
     "cell_type": "code",
     "collapsed": false,
     "input": [
      "def test_nbody1(ctx):\n",
      "    order = \"C\"\n",
      "    dtype = np.float32\n",
      "    n=128\n",
      "    r=3\n",
      "    knl = lp.make_kernel(ctx.devices[0],\n",
      "            \"{[i,j,k,s,q]: 0<=i<%d and 0<=j<%d and 0<=k<%d and 0<=s<%d}\" % (n,n,n,r),\n",
      "           [\n",
      "            \"f[i,s] = sum((j,k), a[i,j,k]*v[j,s]*w[k,s])\",\n",
      "            ],\n",
      "            [\n",
      "            lp.GlobalArg(\"a\", dtype, shape=(n, n, n), order=order),\n",
      "            lp.GlobalArg(\"v\", dtype, shape=(n, r), order=order),\n",
      "            lp.GlobalArg(\"w\", dtype, shape=(n, r), order=order),\n",
      "            lp.GlobalArg(\"f\", dtype, shape=(n, r), order=order),\n",
      "            ],\n",
      "            name=\"pravaya\")\n",
      "    knl = lp.split_iname(knl, \"i\", 16,outer_tag=\"g.0\", inner_tag=\"l.0\")\n",
      "    knl = lp.split_iname(knl, \"s\", 3, outer_tag = \"l.1\")\n",
      "    knl = lp.split_iname(knl, \"j\", 16)\n",
      "    knl = lp.split_iname(knl, \"k\", 16) #,16,outer_tag=\"g.2\", inner_tag=\"l.2\")\n",
      "    seq_knl = knl\n",
      "    return knl\n",
      "\n"
     ],
     "language": "python",
     "metadata": {},
     "outputs": [],
     "prompt_number": 105
    },
    {
     "cell_type": "markdown",
     "metadata": {},
     "source": [
      "# \u041d\u0430\u0431\u043b\u044e\u0434\u0435\u043d\u0438\u044f\n",
      "```\n",
      "read_and_written_args = ( knl.get_read_variables() & knl.get_written_variables() & set(knl.arg_dict))\n",
      "```  \n",
      "\u041f\u0440\u043e\u0432\u0435\u0440\u044f\u0435\u0442, \u043d\u0435\u0442 \u043b\u0438 \u0430\u0440\u0433\u0443\u043c\u0435\u043d\u0442\u043e\u0432, \u043a\u043e\u0442\u043e\u0440\u044b\u0435 \u0438\u0437\u043c\u0435\u043d\u044f\u044e\u0442\u0441\u044f \u0432\u043d\u0443\u0442\u0440\u0438 kernel\n",
      "\n",
      "\u0423\u0440\u0430, \u043c\u044b \u043f\u043e\u043b\u0443\u0447\u0438\u043b\u0438 OpenCL \u043a\u043e\u0434 (\u0438 \u0432\u0438\u0434\u0438\u043c\u043e \u0434\u0430\u0436\u0435 \u0441\u043a\u043e\u043c\u043f\u0438\u043b\u0438\u0440\u043e\u0432\u0430\u043b\u0438).  \n",
      "\u0422\u0435\u043f\u0435\u0440\u044c \u043d\u0443\u0436\u043d\u043e \u0432\u044b\u044f\u0441\u043d\u0438\u0442\u044c, \u043a\u0430\u043a \u0436\u0435 \u0435\u0433\u043e \u0437\u0430\u043f\u0443\u0441\u0442\u0438\u0442\u044c"
     ]
    },
    {
     "cell_type": "code",
     "collapsed": false,
     "input": [
      "plt = cl.get_platforms()\n",
      "nvidia_plat = plt[0]\n",
      "ctx = cl.Context(nvidia_plat.get_devices())\n",
      "knl = test_nbody1(ctx)\n",
      "queue = cl.CommandQueue(ctx,properties=cl.command_queue_properties.PROFILING_ENABLE)\n",
      "cknl = lp.CompiledKernel(ctx, knl)"
     ],
     "language": "python",
     "metadata": {},
     "outputs": [],
     "prompt_number": 106
    },
    {
     "cell_type": "code",
     "collapsed": false,
     "input": [
      "cknl.print_code()"
     ],
     "language": "python",
     "metadata": {},
     "outputs": [
      {
       "output_type": "stream",
       "stream": "stdout",
       "text": [
        "\n",
        "#define lid(N) ((int) get_local_id(N))\n",
        "#define gid(N) ((int) get_group_id(N))\n",
        "\n",
        "__kernel void __attribute__ ((reqd_work_group_size(16, 1, 1))) f(__global float const *restrict a, __global float const *restrict v, __global float const *restrict w, __global float *restrict f)\n",
        "{\n",
        "  float acc_j_outer_j_inner_k_outer_k_inner;\n",
        "\n",
        "  for (int s_inner = 0; s_inner <= 2; ++s_inner)\n",
        "  {\n",
        "    acc_j_outer_j_inner_k_outer_k_inner = 0.0f;\n",
        "    for (int j_inner = 0; j_inner <= 15; ++j_inner)\n",
        "      for (int k_inner = 0; k_inner <= 15; ++k_inner)\n",
        "        for (int k_outer = 0; k_outer <= 7; ++k_outer)\n",
        "          for (int j_outer = 0; j_outer <= 7; ++j_outer)\n",
        "            acc_j_outer_j_inner_k_outer_k_inner = acc_j_outer_j_inner_k_outer_k_inner + a[16384 * (lid(0) + gid(0) * 16) + 128 * (j_inner + j_outer * 16) + k_inner + k_outer * 16] * v[3 * (j_inner + j_outer * 16) + s_inner + lid(1) * 3] * w[3 * (k_inner + k_outer * 16) + s_inner + lid(1) * 3];\n",
        "    f[3 * (lid(0) + gid(0) * 16) + s_inner + lid(1) * 3] = acc_j_outer_j_inner_k_outer_k_inner;\n",
        "  }\n",
        "}\n"
       ]
      }
     ],
     "prompt_number": 107
    },
    {
     "cell_type": "code",
     "collapsed": false,
     "input": [
      "n = 128\n",
      "r = 3\n",
      "#a = np.ones((n, n), dtype = np.float32)\n",
      "#b = np.ones((n, n), dtype = np.float32)\n",
      "f = np.zeros((n, r), dtype = np.float32)\n",
      "a = np.random.randn(n, n, n)\n",
      "v = np.random.randn(n, r)\n",
      "w = np.random.randn(n,r)\n",
      "\n",
      "a = a.astype(np.float32)\n",
      "v = v.astype(np.float32)\n",
      "w = w.astype(np.float32)\n",
      "parameters = {\"a\" : a, \"v\": v, \"w\" : w} \n",
      "\n",
      "import time\n",
      "t1 = time.time()\n",
      "evt, (f) = cknl(queue, **parameters)\n",
      "print time.time() - t1\n"
     ],
     "language": "python",
     "metadata": {},
     "outputs": [
      {
       "output_type": "stream",
       "stream": "stdout",
       "text": [
        "0.692429065704\n"
       ]
      }
     ],
     "prompt_number": 101
    },
    {
     "cell_type": "code",
     "collapsed": false,
     "input": [
      "+fuu=zeros((n,r))\n",
      "for i in xrange (0,n):\n",
      "    for s in xrange(0,r):\n",
      "       l=0\n",
      "       for j in xrange(0,n):\n",
      "            h=0\n",
      "            for k in xrange(0,n):\n",
      "                h=h+a[i,j,k]*w[k,s]\n",
      "            l=l+h*v[j,s]\n",
      "       fuu[i,s]=l\n"
     ],
     "language": "python",
     "metadata": {},
     "outputs": [],
     "prompt_number": 14
    },
    {
     "cell_type": "code",
     "collapsed": false,
     "input": [
      "cknl.local_size_func()\n"
     ],
     "language": "python",
     "metadata": {},
     "outputs": [
      {
       "output_type": "pyout",
       "prompt_number": 77,
       "text": [
        "(16,)"
       ]
      }
     ],
     "prompt_number": 77
    },
    {
     "cell_type": "code",
     "collapsed": false,
     "input": [
      "cknl??"
     ],
     "language": "python",
     "metadata": {},
     "outputs": [],
     "prompt_number": 38
    },
    {
     "cell_type": "code",
     "collapsed": false,
     "input": [
      "knl.get_written_variables()"
     ],
     "language": "python",
     "metadata": {},
     "outputs": [
      {
       "output_type": "pyout",
       "prompt_number": 39,
       "text": [
        "frozenset(['pot', 'pot1'])"
       ]
      }
     ],
     "prompt_number": 39
    },
    {
     "cell_type": "code",
     "collapsed": false,
     "input": [],
     "language": "python",
     "metadata": {},
     "outputs": []
    }
   ],
   "metadata": {}
  }
 ]
}