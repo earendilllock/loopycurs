{
 "metadata": {
  "name": "loopy"
 },
 "nbformat": 3,
 "nbformat_minor": 0,
 "worksheets": [
  {
   "cells": [
    {
     "cell_type": "markdown",
     "metadata": {},
     "source": [
      "## \u0422\u0435\u0441\u0442\u0438\u0440\u0443\u0435\u043c \u0432\u043e\u0437\u043c\u043e\u0436\u043d\u043e\u0441\u0442\u0438 loopy\n",
      "\n",
      "$c_{ij} = \\sum_{k} a_{ik} b_{kj}$\n",
      "\n",
      "- \u0420\u0430\u0437\u043e\u0431\u0440\u0430\u0442\u044c\u0441\u044f \u0441 \u0437\u0430\u043f\u0443\u0441\u043a\u043e\u043c **\u044f\u0434\u0440\u0430** (kernel)\n",
      "- \u0412\u044b\u044f\u0441\u043d\u0438\u0442\u044c, \u043d\u0430 \u0447\u0435\u043c \u0437\u0430\u043f\u0443\u0441\u043a\u0430\u0435\u0442\u0441\u044f \u043a\u043e\u0434"
     ]
    },
    {
     "cell_type": "code",
     "collapsed": false,
     "input": [
      "import numpy as np\n",
      "import numpy.linalg as la\n",
      "import pyopencl as cl\n",
      "import pyopencl.array as cl_array\n",
      "import loopy as lp"
     ],
     "language": "python",
     "metadata": {},
     "outputs": [],
     "prompt_number": 33
    },
    {
     "cell_type": "code",
     "collapsed": false,
     "input": [
      "def get_suitable_size(ctx):\n",
      "    dev, = ctx.devices\n",
      "    if dev.type == cl.device_type.CPU:\n",
      "        return 160\n",
      "    else:\n",
      "        return 1600\n",
      "\n",
      "def check_float4(result, ref_result):\n",
      "    for comp in [\"x\", \"y\", \"z\", \"w\"]:\n",
      "        return np.allclose(ref_result[comp], result[comp], rtol=1e-3, atol=1e-3), None\n",
      "    \n",
      "def get_suitable_size(ctx):\n",
      "    dev, = ctx.devices\n",
      "    if dev.type == cl.device_type.CPU:\n",
      "        return 160\n",
      "    else:\n",
      "        return 1600\n",
      "\n",
      "def check_float4(result, ref_result):\n",
      "    for comp in [\"x\", \"y\", \"z\", \"w\"]:\n",
      "        return np.allclose(ref_result[comp], result[comp], rtol=1e-3, atol=1e-3), None\n",
      "    \n",
      "def test_plain_matrix_mul(ctx):\n",
      "    order = \"C\"\n",
      "\n",
      "\n",
      "    n = 128\n",
      "    dtype = np.float32\n",
      "    knl = lp.make_kernel(ctx.devices[0],\n",
      "            \"{[i,j,k]: 0<=i,j,k<%d}\" % n,\n",
      "                [\n",
      "                   \"c[i, j] = sum(k, a[i, k]*b[k, j])\"\n",
      "                ],\n",
      "                [\n",
      "                lp.GlobalArg(\"a\", dtype, shape=(n, n), order=order),\n",
      "                lp.GlobalArg(\"b\", dtype, shape=(n, n), order=order),\n",
      "                lp.GlobalArg(\"c\", dtype, shape=(n, n), order=order),\n",
      "                ],\n",
      "                name=\"matmul\")\n",
      "\n",
      "    ref_knl = knl\n",
      "    knl = lp.split_iname(knl, \"i\", 16,\n",
      "            outer_tag=\"g.0\", inner_tag=\"l.1\")\n",
      "    knl = lp.split_iname(knl, \"j\", 16,\n",
      "            outer_tag=\"g.1\", inner_tag=\"l.0\")\n",
      "    knl = lp.split_iname(knl, \"k\", 16)\n",
      "    knl = lp.add_prefetch(knl, \"a\", [\"k_inner\", \"i_inner\"])\n",
      "    knl = lp.add_prefetch(knl, \"b\", [\"j_inner\", \"k_inner\", ])\n",
      "\n",
      "    kernel_gen = lp.generate_loop_schedules(knl)\n",
      "    #kernel_gen = lp.check_kernels(kernel_gen, {})\n",
      "    return kernel_gen, knl\n"
     ],
     "language": "python",
     "metadata": {},
     "outputs": [],
     "prompt_number": 34
    },
    {
     "cell_type": "markdown",
     "metadata": {},
     "source": [
      "# \u041d\u0430\u0431\u043b\u044e\u0434\u0435\u043d\u0438\u044f\n",
      "```\n",
      "read_and_written_args = ( knl.get_read_variables() & knl.get_written_variables() & set(knl.arg_dict))\n",
      "```  \n",
      "\u041f\u0440\u043e\u0432\u0435\u0440\u044f\u0435\u0442, \u043d\u0435\u0442 \u043b\u0438 \u0430\u0440\u0433\u0443\u043c\u0435\u043d\u0442\u043e\u0432, \u043a\u043e\u0442\u043e\u0440\u044b\u0435 \u0438\u0437\u043c\u0435\u043d\u044f\u044e\u0442\u0441\u044f \u0432\u043d\u0443\u0442\u0440\u0438 kernel\n",
      "\n",
      "\u0423\u0440\u0430, \u043c\u044b \u043f\u043e\u043b\u0443\u0447\u0438\u043b\u0438 OpenCL \u043a\u043e\u0434 (\u0438 \u0432\u0438\u0434\u0438\u043c\u043e \u0434\u0430\u0436\u0435 \u0441\u043a\u043e\u043c\u043f\u0438\u043b\u0438\u0440\u043e\u0432\u0430\u043b\u0438).  \n",
      "\u0422\u0435\u043f\u0435\u0440\u044c \u043d\u0443\u0436\u043d\u043e \u0432\u044b\u044f\u0441\u043d\u0438\u0442\u044c, \u043a\u0430\u043a \u0436\u0435 \u0435\u0433\u043e \u0437\u0430\u043f\u0443\u0441\u0442\u0438\u0442\u044c"
     ]
    },
    {
     "cell_type": "code",
     "collapsed": false,
     "input": [
      "plt = cl.get_platforms()\n",
      "nvidia_plat = plt[1]\n",
      "ctx = cl.Context(nvidia_plat.get_devices())\n",
      "kernel_gen, knl = test_plain_matrix_mul(ctx)\n",
      "queue = cl.CommandQueue(ctx,properties=cl.command_queue_properties.PROFILING_ENABLE)\n",
      "cknl = lp.CompiledKernel(ctx, knl)"
     ],
     "language": "python",
     "metadata": {},
     "outputs": [],
     "prompt_number": 35
    },
    {
     "cell_type": "code",
     "collapsed": false,
     "input": [
      "n = 128\n",
      "r=3\n",
      "#a = np.ones((n, n), dtype = np.float32)\n",
      "#b = np.ones((n, n), dtype = np.float32)\n",
      "c = np.zeros((n, n), dtype = np.float32)\n",
      "a = np.random.randn(n, n)\n",
      "b = np.random.randn(n, n)\n",
      "a = a.astype(np.float32)\n",
      "b = b.astype(np.float32)\n",
      "\n",
      "parameters = {\"a\" : a, \"b\": b}\n",
      "import time\n",
      "\n",
      "evt, (c) = cknl(queue, **parameters)\n"
     ],
     "language": "python",
     "metadata": {},
     "outputs": [],
     "prompt_number": 36
    },
    {
     "cell_type": "code",
     "collapsed": false,
     "input": [],
     "language": "python",
     "metadata": {},
     "outputs": [
      {
       "output_type": "pyout",
       "prompt_number": 37,
       "text": [
        "[array([[  2.1118722 ,  -2.68831253,   2.63484693, ...,  15.91254425,\n",
        "         -8.40740967,   4.4756608 ],\n",
        "       [ -0.82968712,  11.11749077,  -5.04529715, ..., -14.05838299,\n",
        "          6.36158133, -17.97547531],\n",
        "       [ -1.44026756,  -5.75699663,   8.2873621 , ...,  -6.81188774,\n",
        "         -6.76677132,   8.89033985],\n",
        "       ..., \n",
        "       [ 12.65200806,  -9.12121677,  13.95096588, ...,  -0.46520665,\n",
        "          0.63517249,  38.526371  ],\n",
        "       [ -3.95770311,   8.10199833,   2.41096258, ..., -20.80931664,\n",
        "          2.27953768,  17.87019348],\n",
        "       [ -3.95422459,  -1.92111695,  -4.69800282, ...,   0.83668393,\n",
        "         -5.60117912,  10.59803867]], dtype=float32)]"
       ]
      }
     ],
     "prompt_number": 37
    },
    {
     "cell_type": "code",
     "collapsed": false,
     "input": [],
     "language": "python",
     "metadata": {},
     "outputs": [],
     "prompt_number": 10
    },
    {
     "cell_type": "code",
     "collapsed": false,
     "input": [],
     "language": "python",
     "metadata": {},
     "outputs": [
      {
       "output_type": "stream",
       "stream": "stdout",
       "text": [
        "I took time: 0.000859 sec\n"
       ]
      }
     ],
     "prompt_number": 11
    },
    {
     "cell_type": "code",
     "collapsed": false,
     "input": [],
     "language": "python",
     "metadata": {},
     "outputs": [
      {
       "output_type": "stream",
       "stream": "stdout",
       "text": [
        "He took time: 0.003019 sec\n"
       ]
      }
     ],
     "prompt_number": 12
    },
    {
     "cell_type": "code",
     "collapsed": false,
     "input": [],
     "language": "python",
     "metadata": {},
     "outputs": [],
     "prompt_number": 13
    },
    {
     "cell_type": "code",
     "collapsed": false,
     "input": [],
     "language": "python",
     "metadata": {},
     "outputs": [],
     "prompt_number": 14
    },
    {
     "cell_type": "code",
     "collapsed": false,
     "input": [],
     "language": "python",
     "metadata": {},
     "outputs": [
      {
       "output_type": "pyout",
       "prompt_number": 15,
       "text": [
        "array([[ -4.76837158e-07,   9.53674316e-07,   1.90734863e-06, ...,\n",
        "          0.00000000e+00,  -9.53674316e-07,   0.00000000e+00],\n",
        "       [  0.00000000e+00,   0.00000000e+00,  -3.33786011e-06, ...,\n",
        "          0.00000000e+00,  -9.53674316e-07,  -1.90734863e-06],\n",
        "       [  0.00000000e+00,  -3.81469727e-06,  -7.15255737e-07, ...,\n",
        "          1.90734863e-06,   4.76837158e-07,   0.00000000e+00],\n",
        "       ..., \n",
        "       [  9.53674316e-07,  -4.76837158e-07,  -2.86102295e-06, ...,\n",
        "         -1.43051147e-06,   0.00000000e+00,  -9.53674316e-07],\n",
        "       [ -2.86102295e-06,   4.76837158e-07,   1.43051147e-06, ...,\n",
        "          4.76837158e-07,  -1.90734863e-06,   0.00000000e+00],\n",
        "       [  0.00000000e+00,   9.53674316e-07,   0.00000000e+00, ...,\n",
        "          1.90734863e-06,  -9.53674316e-07,  -9.53674316e-07]], dtype=float32)"
       ]
      }
     ],
     "prompt_number": 15
    },
    {
     "cell_type": "code",
     "collapsed": false,
     "input": [],
     "language": "python",
     "metadata": {},
     "outputs": []
    }
   ],
   "metadata": {}
  }
 ]
}