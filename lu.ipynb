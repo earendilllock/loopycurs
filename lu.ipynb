{
 "metadata": {
  "name": "lu"
 },
 "nbformat": 3,
 "nbformat_minor": 0,
 "worksheets": [
  {
   "cells": [
    {
     "cell_type": "code",
     "collapsed": false,
     "input": [],
     "language": "python",
     "metadata": {},
     "outputs": []
    },
    {
     "cell_type": "code",
     "collapsed": false,
     "input": [
      "import numpy as np\n",
      "import numpy.linalg as la\n",
      "import pyopencl as cl\n",
      "import pyopencl.array as cl_array\n",
      "import loopy as lp\n",
      "\n"
     ],
     "language": "python",
     "metadata": {},
     "outputs": [],
     "prompt_number": 5
    },
    {
     "cell_type": "code",
     "collapsed": false,
     "input": [
      "from numpy import *\n",
      "from pylab import *\n",
      "\n",
      "def ludecomp(b):\n",
      "  a=b.copy()\n",
      "  n=shape(a)[0]\n",
      "  for k in xrange(0,n-1):\n",
      "\n",
      "    a[k+1:,k]=a[k+1:,k]/a[k,k]\n",
      "    a[k+1:,k+1:n]=a[k+1:,k+1:n] - dot(a[k+1:,k].reshape(-1,1,order = 'F'),a[k,k+1:n].reshape(1,-1, order = 'F'))\n",
      "  return a\n",
      "\n",
      "def lu_decomp(b):\n",
      "  a=b.copy()\n",
      "  n=shape(a)[0]\n",
      "  for k in xrange(0,n-1):\n",
      "    for i in xrange(k+1,n):\n",
      "      a[i,k]=a[i,k]/a[k,k]\n",
      "    for j in xrange(k+1,n):\n",
      "      for i in xrange(k+1,n):\n",
      "        a[i,j]=a[i,j]-a[i,k]*a[k,j]\n",
      "  return a\n",
      "\n",
      "def lu_decomp1(b):\n",
      "  a=b.copy()\n",
      "  n=shape(a)[0]\n",
      "  for k in xrange(0,n-1):\n",
      "    for j in xrange(k+1,n):\n",
      "      for i in xrange(k+1,n):\n",
      "        a[j,k]=a[j,k]/a[k,k]\n",
      "        a[i,j]=a[i,j]-a[i,k]*a[k,j]\n",
      "  return a\n",
      "\n",
      "def getfactors(a):\n",
      "  n=shape(a)[0]\n",
      "  l=eye(n)\n",
      "  u=zeros((n,n))\n",
      "  for i in xrange(n):\n",
      "    for j in xrange(i+1,n):\n",
      "      u[i,j]=a[i,j]\n",
      "      a[i,j]=0\n",
      "  u=u+diag(diag(a))\n",
      "  l=l+a-diag(diag(a))\n",
      "  return l,u\n",
      "\n",
      "def lusolve(LU,b):\n",
      "  n=shape(LU)[0]\n",
      "  bcopy=b.copy()\n",
      "  for k in xrange(n-1):\n",
      "    bcopy[k+1:n] = bcopy[k+1:n]-bcopy[k]*LU[k+1:n,k]\n",
      "  \n",
      "  for k in xrange(n-1,0,-1):\n",
      "    bcopy[k] = bcopy[k]/LU[k,k]\n",
      "    bcopy[:k] = bcopy[:k]-bcopy[k]*LU[:k,k]\n",
      "  \n",
      "  bcopy[0]=bcopy[0]/LU[0,0]\n",
      "  return bcopy"
     ],
     "language": "python",
     "metadata": {},
     "outputs": [],
     "prompt_number": 9
    },
    {
     "cell_type": "code",
     "collapsed": false,
     "input": [
      "a=randn(10,10)\n",
      "b=lu_decomp1(a)\n",
      "b1=lu_decomp(a)\n",
      "b-b1"
     ],
     "language": "python",
     "metadata": {},
     "outputs": [
      {
       "ename": "NameError",
       "evalue": "name 'lu_decomp1' is not defined",
       "output_type": "pyerr",
       "traceback": [
        "\u001b[1;31m---------------------------------------------------------------------------\u001b[0m\n\u001b[1;31mNameError\u001b[0m                                 Traceback (most recent call last)",
        "\u001b[1;32m<ipython-input-6-8b16f3dd7ede>\u001b[0m in \u001b[0;36m<module>\u001b[1;34m()\u001b[0m\n\u001b[0;32m      1\u001b[0m \u001b[0ma\u001b[0m\u001b[1;33m=\u001b[0m\u001b[0mrandn\u001b[0m\u001b[1;33m(\u001b[0m\u001b[1;36m10\u001b[0m\u001b[1;33m,\u001b[0m\u001b[1;36m10\u001b[0m\u001b[1;33m)\u001b[0m\u001b[1;33m\u001b[0m\u001b[0m\n\u001b[1;32m----> 2\u001b[1;33m \u001b[0mb\u001b[0m\u001b[1;33m=\u001b[0m\u001b[0mlu_decomp1\u001b[0m\u001b[1;33m(\u001b[0m\u001b[0ma\u001b[0m\u001b[1;33m)\u001b[0m\u001b[1;33m\u001b[0m\u001b[0m\n\u001b[0m\u001b[0;32m      3\u001b[0m \u001b[0mb1\u001b[0m\u001b[1;33m=\u001b[0m\u001b[0mlu_decomp\u001b[0m\u001b[1;33m(\u001b[0m\u001b[0ma\u001b[0m\u001b[1;33m)\u001b[0m\u001b[1;33m\u001b[0m\u001b[0m\n\u001b[0;32m      4\u001b[0m \u001b[0mb\u001b[0m\u001b[1;33m-\u001b[0m\u001b[0mb1\u001b[0m\u001b[1;33m\u001b[0m\u001b[0m\n",
        "\u001b[1;31mNameError\u001b[0m: name 'lu_decomp1' is not defined"
       ]
      }
     ],
     "prompt_number": 6
    },
    {
     "cell_type": "code",
     "collapsed": false,
     "input": [
      "def test_nbody(ctx):\n",
      "    order = \"C\"\n",
      "    dtype = np.float32\n",
      "    n=128\n",
      "    r=3\n",
      "    knl = lp.make_kernel(ctx.devices[0],\n",
      "            \"{[k,i]: 0<=k<%d-1 and 0<=i<%d}\" % (n,n),\n",
      "           [\n",
      "            \n",
      "            \"a[i,k]=1\",\n",
      "            ],\n",
      "            [\n",
      "            lp.GlobalArg(\"a\", dtype, shape=(), order=order),\n",
      "            \n",
      "            ],\n",
      "            name=\"pravaya\")\n",
      "\n",
      "    seq_knl = knl\n",
      "    return knl"
     ],
     "language": "python",
     "metadata": {},
     "outputs": [],
     "prompt_number": 1
    },
    {
     "cell_type": "code",
     "collapsed": false,
     "input": [
      "\n"
     ],
     "language": "python",
     "metadata": {},
     "outputs": [],
     "prompt_number": 3
    },
    {
     "cell_type": "code",
     "collapsed": false,
     "input": [
      "def test_triangle_domain(ctx):\n",
      "  \n",
      "\n",
      "  knl = lp.make_kernel(ctx.devices[0], \n",
      "  [\n",
      "  \"{[i,j]: n>i,j>0 and i <= j}\",\n",
      "  ],\n",
      "  \"a[i,j] = 17\",\n",
      "  assumptions=\"n>=1\")\n",
      "\n",
      "  print knl\n",
      "  print lp.CompiledKernel(ctx, knl).get_highlighted_code()   "
     ],
     "language": "python",
     "metadata": {},
     "outputs": [],
     "prompt_number": 7
    },
    {
     "cell_type": "code",
     "collapsed": false,
     "input": [
      "for j in xrange(0,9):\n",
      "    print 9-j"
     ],
     "language": "python",
     "metadata": {},
     "outputs": [
      {
       "output_type": "stream",
       "stream": "stdout",
       "text": [
        "9\n",
        "8\n",
        "7\n",
        "6\n",
        "5\n",
        "4\n",
        "3\n",
        "2\n",
        "1\n"
       ]
      }
     ],
     "prompt_number": 29
    },
    {
     "cell_type": "code",
     "collapsed": false,
     "input": [
      "\n",
      "\n",
      "\n",
      "plt = cl.get_platforms()\n",
      "nvidia_plat = plt[0]\n",
      "ctx = cl.Context(nvidia_plat.get_devices())\n",
      "knl = test_triangle_domain(ctx)\n",
      "queue = cl.CommandQueue(ctx,properties=cl.command_queue_properties.PROFILING_ENABLE)\n",
      "cknl = lp.CompiledKernel(ctx, knl)\n",
      "#cknl.print_code()\n",
      "\n",
      "\n",
      "\n",
      "#n = 128\n",
      "#r = 3\n",
      "\n",
      "#a = np.ones((n, n), dtype = np.float32)\n",
      "#b = np.ones((n, n), dtype = np.float32)\n",
      "#f = np.zeros((n, r), dtype = np.float32)\n",
      "#a = np.random.randn(n, n, n)\n",
      "#v = np.random.rand|n(n, r)\n",
      "#w = np.random.randn(n,r)\n",
      "parameters = {}\n",
      "evt, (a) = cknl(queue, **parameters)"
     ],
     "language": "python",
     "metadata": {},
     "outputs": [
      {
       "ename": "TypeError",
       "evalue": "'NoneType' object is not iterable",
       "output_type": "pyerr",
       "traceback": [
        "\u001b[1;31m---------------------------------------------------------------------------\u001b[0m\n\u001b[1;31mTypeError\u001b[0m                                 Traceback (most recent call last)",
        "\u001b[1;32m<ipython-input-18-b8fae0b25d4c>\u001b[0m in \u001b[0;36m<module>\u001b[1;34m()\u001b[0m\n\u001b[0;32m      7\u001b[0m \u001b[0mknl\u001b[0m \u001b[1;33m=\u001b[0m \u001b[0mtest_triangle_domain\u001b[0m\u001b[1;33m(\u001b[0m\u001b[0mctx\u001b[0m\u001b[1;33m)\u001b[0m\u001b[1;33m\u001b[0m\u001b[0m\n\u001b[0;32m      8\u001b[0m \u001b[0mqueue\u001b[0m \u001b[1;33m=\u001b[0m \u001b[0mcl\u001b[0m\u001b[1;33m.\u001b[0m\u001b[0mCommandQueue\u001b[0m\u001b[1;33m(\u001b[0m\u001b[0mctx\u001b[0m\u001b[1;33m,\u001b[0m\u001b[0mproperties\u001b[0m\u001b[1;33m=\u001b[0m\u001b[0mcl\u001b[0m\u001b[1;33m.\u001b[0m\u001b[0mcommand_queue_properties\u001b[0m\u001b[1;33m.\u001b[0m\u001b[0mPROFILING_ENABLE\u001b[0m\u001b[1;33m)\u001b[0m\u001b[1;33m\u001b[0m\u001b[0m\n\u001b[1;32m----> 9\u001b[1;33m \u001b[0mcknl\u001b[0m \u001b[1;33m=\u001b[0m \u001b[0mlp\u001b[0m\u001b[1;33m.\u001b[0m\u001b[0mCompiledKernel\u001b[0m\u001b[1;33m(\u001b[0m\u001b[0mctx\u001b[0m\u001b[1;33m,\u001b[0m \u001b[0mknl\u001b[0m\u001b[1;33m)\u001b[0m\u001b[1;33m\u001b[0m\u001b[0m\n\u001b[0m\u001b[0;32m     10\u001b[0m \u001b[1;31m#cknl.print_code()\u001b[0m\u001b[1;33m\u001b[0m\u001b[1;33m\u001b[0m\u001b[0m\n\u001b[0;32m     11\u001b[0m \u001b[1;33m\u001b[0m\u001b[0m\n",
        "\u001b[1;32m/usr/local/lib/python2.7/dist-packages/loopy-2011.1alpha-py2.7.egg/loopy/compiled.pyc\u001b[0m in \u001b[0;36m__init__\u001b[1;34m(self, context, kernel, size_args, options, edit_code, codegen_kwargs)\u001b[0m\n\u001b[0;32m     91\u001b[0m             \u001b[0mkernel_count\u001b[0m \u001b[1;33m=\u001b[0m \u001b[1;36m0\u001b[0m\u001b[1;33m\u001b[0m\u001b[0m\n\u001b[0;32m     92\u001b[0m \u001b[1;33m\u001b[0m\u001b[0m\n\u001b[1;32m---> 93\u001b[1;33m             \u001b[1;32mfor\u001b[0m \u001b[0mscheduled_kernel\u001b[0m \u001b[1;32min\u001b[0m \u001b[0mkernel\u001b[0m\u001b[1;33m:\u001b[0m\u001b[1;33m\u001b[0m\u001b[0m\n\u001b[0m\u001b[0;32m     94\u001b[0m                 \u001b[0mkernel_count\u001b[0m \u001b[1;33m+=\u001b[0m \u001b[1;36m1\u001b[0m\u001b[1;33m\u001b[0m\u001b[0m\n\u001b[0;32m     95\u001b[0m \u001b[1;33m\u001b[0m\u001b[0m\n",
        "\u001b[1;31mTypeError\u001b[0m: 'NoneType' object is not iterable"
       ]
      },
      {
       "output_type": "stream",
       "stream": "stdout",
       "text": [
        "---------------------------------------------------------------------------\n",
        "INAME-TO-TAG MAP:\n",
        "i: None\n",
        "j: None\n",
        "---------------------------------------------------------------------------\n",
        "DOMAINS:\n",
        "[n] -> { [i, j] : i <= -1 + n and j <= -1 + n and i >= 1 and j >= 1 and j >= i }\n",
        "---------------------------------------------------------------------------\n",
        "INSTRUCTIONS:\n",
        "[i,j]                                a[(i, j)] <- 17   # insn\n",
        "---------------------------------------------------------------------------\n",
        "DEPENDENCIES:\n",
        "---------------------------------------------------------------------------\n",
        "\u001b[36m#\u001b[39;49;00m\u001b[36mdefine lid(N) ((int) get_local_id(N))\u001b[39;49;00m\n",
        "\u001b[36m#\u001b[39;49;00m\u001b[36mdefine gid(N) ((int) get_group_id(N))\u001b[39;49;00m\n",
        "\n",
        "__kernel\u001b[39;49;00m \u001b[39;49;00m\u001b[36mvoid\u001b[39;49;00m \u001b[39;49;00m\u001b[32m__attribute__\u001b[39;49;00m \u001b[39;49;00m(\u001b[39;49;00m(\u001b[39;49;00mreqd_work_group_size\u001b[39;49;00m(\u001b[39;49;00m\u001b[34m1\u001b[39;49;00m,\u001b[39;49;00m \u001b[39;49;00m\u001b[34m1\u001b[39;49;00m,\u001b[39;49;00m \u001b[39;49;00m\u001b[34m1\u001b[39;49;00m)\u001b[39;49;00m)\u001b[39;49;00m)\u001b[39;49;00m \u001b[39;49;00mloopy_kernel\u001b[39;49;00m(\u001b[39;49;00m__global\u001b[39;49;00m \u001b[39;49;00m\u001b[36mint\u001b[39;49;00m \u001b[39;49;00m*\u001b[39;49;00m\u001b[34mrestrict\u001b[39;49;00m \u001b[39;49;00ma\u001b[39;49;00m,\u001b[39;49;00m \u001b[39;49;00m\u001b[36mint\u001b[39;49;00m \u001b[39;49;00m\u001b[34mconst\u001b[39;49;00m \u001b[39;49;00mn\u001b[39;49;00m)\u001b[39;49;00m\n",
        "{\u001b[39;49;00m\n",
        "\n",
        "  \u001b[39;49;00m\u001b[34mfor\u001b[39;49;00m \u001b[39;49;00m(\u001b[39;49;00m\u001b[36mint\u001b[39;49;00m \u001b[39;49;00mi\u001b[39;49;00m \u001b[39;49;00m=\u001b[39;49;00m \u001b[39;49;00m\u001b[34m1\u001b[39;49;00m;\u001b[39;49;00m \u001b[39;49;00mi\u001b[39;49;00m \u001b[39;49;00m<\u001b[39;49;00m=\u001b[39;49;00m \u001b[39;49;00m(\u001b[39;49;00m-\u001b[39;49;00m\u001b[34m1\u001b[39;49;00m \u001b[39;49;00m+\u001b[39;49;00m \u001b[39;49;00mn\u001b[39;49;00m)\u001b[39;49;00m;\u001b[39;49;00m \u001b[39;49;00m+\u001b[39;49;00m+\u001b[39;49;00mi\u001b[39;49;00m)\u001b[39;49;00m\n",
        "    \u001b[39;49;00m\u001b[34mfor\u001b[39;49;00m \u001b[39;49;00m(\u001b[39;49;00m\u001b[36mint\u001b[39;49;00m \u001b[39;49;00mj\u001b[39;49;00m \u001b[39;49;00m=\u001b[39;49;00m \u001b[39;49;00mi\u001b[39;49;00m;\u001b[39;49;00m \u001b[39;49;00mj\u001b[39;49;00m \u001b[39;49;00m<\u001b[39;49;00m=\u001b[39;49;00m \u001b[39;49;00m(\u001b[39;49;00m-\u001b[39;49;00m\u001b[34m1\u001b[39;49;00m \u001b[39;49;00m+\u001b[39;49;00m \u001b[39;49;00mn\u001b[39;49;00m)\u001b[39;49;00m;\u001b[39;49;00m \u001b[39;49;00m+\u001b[39;49;00m+\u001b[39;49;00mj\u001b[39;49;00m)\u001b[39;49;00m\n",
        "      \u001b[39;49;00ma\u001b[39;49;00m[\u001b[39;49;00mn\u001b[39;49;00m \u001b[39;49;00m*\u001b[39;49;00m \u001b[39;49;00mi\u001b[39;49;00m \u001b[39;49;00m+\u001b[39;49;00m \u001b[39;49;00mj\u001b[39;49;00m]\u001b[39;49;00m \u001b[39;49;00m=\u001b[39;49;00m \u001b[39;49;00m\u001b[34m17\u001b[39;49;00m;\u001b[39;49;00m\n",
        "}\u001b[39;49;00m\n",
        "\n"
       ]
      }
     ],
     "prompt_number": 18
    },
    {
     "cell_type": "code",
     "collapsed": false,
     "input": [
      "a"
     ],
     "language": "python",
     "metadata": {},
     "outputs": [
      {
       "output_type": "pyout",
       "prompt_number": 10,
       "text": [
        "[array([[ 0.,  0.,  0., ...,  0.,  0.,  0.],\n",
        "       [ 1.,  0.,  0., ...,  0.,  0.,  0.],\n",
        "       [ 1.,  1.,  0., ...,  0.,  0.,  0.],\n",
        "       ..., \n",
        "       [ 1.,  1.,  1., ...,  0.,  0.,  0.],\n",
        "       [ 1.,  1.,  1., ...,  1.,  0.,  0.],\n",
        "       [ 1.,  1.,  1., ...,  1.,  1.,  0.]], dtype=float32)]"
       ]
      }
     ],
     "prompt_number": 10
    },
    {
     "cell_type": "code",
     "collapsed": false,
     "input": [],
     "language": "python",
     "metadata": {},
     "outputs": []
    }
   ],
   "metadata": {}
  }
 ]
}