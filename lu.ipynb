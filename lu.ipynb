{
 "metadata": {
  "name": "lu"
 },
 "nbformat": 3,
 "nbformat_minor": 0,
 "worksheets": [
  {
   "cells": [
    {
     "cell_type": "code",
     "collapsed": false,
     "input": [],
     "language": "python",
     "metadata": {},
     "outputs": []
    },
    {
     "cell_type": "code",
     "collapsed": false,
     "input": [
      "import numpy as np\n",
      "import numpy.linalg as la\n",
      "import pyopencl as cl\n",
      "import pyopencl.array as cl_array\n",
      "import loopy as lp\n",
      "\n"
     ],
     "language": "python",
     "metadata": {},
     "outputs": [],
     "prompt_number": 2
    },
    {
     "cell_type": "code",
     "collapsed": false,
     "input": [
      "from numpy import *\n",
      "from pylab import *\n",
      "\n",
      "def ludecomp(b):\n",
      "  a=b.copy()\n",
      "  n=shape(a)[0]\n",
      "  for k in xrange(0,n-1):\n",
      "\n",
      "    a[k+1:,k]=a[k+1:,k]/a[k,k]\n",
      "    a[k+1:,k+1:n]=a[k+1:,k+1:n] - dot(a[k+1:,k].reshape(-1,1,order = 'F'),a[k,k+1:n].reshape(1,-1, order = 'F'))\n",
      "  return a\n",
      "\n",
      "def lu_decomp(b):\n",
      "  a=b.copy()\n",
      "  n=shape(a)[0]\n",
      "  for k in xrange(0,n-1):\n",
      "    for i in xrange(k+1,n):\n",
      "      a[i,k]=a[i,k]/a[k,k]\n",
      "    for j in xrange(k+1,n):\n",
      "      for i in xrange(k+1,n):\n",
      "        a[i,j]=a[i,j]-a[i,k]*a[k,j]\n",
      "  return a\n",
      "\n",
      "def lu_decomp1(b):\n",
      "  a=b.copy()\n",
      "  n=shape(a)[0]\n",
      "  for k in xrange(0,n-1):\n",
      "    for j in xrange(k+1,n):\n",
      "      for i in xrange(k+1,n):\n",
      "        a[j,k]=a[j,k]/a[k,k]\n",
      "        a[i,j]=a[i,j]-a[i,k]*a[k,j]\n",
      "  return a\n",
      "\n",
      "def getfactors(a):\n",
      "  n=shape(a)[0]\n",
      "  l=eye(n)\n",
      "  u=zeros((n,n))\n",
      "  for i in xrange(n):\n",
      "    for j in xrange(i+1,n):\n",
      "      u[i,j]=a[i,j]\n",
      "      a[i,j]=0\n",
      "  u=u+diag(diag(a))\n",
      "  l=l+a-diag(diag(a))\n",
      "  return l,u\n",
      "\n",
      "def lusolve(LU,b):\n",
      "  n=shape(LU)[0]\n",
      "  bcopy=b.copy()\n",
      "  for k in xrange(n-1):\n",
      "    bcopy[k+1:n] = bcopy[k+1:n]-bcopy[k]*LU[k+1:n,k]\n",
      "  \n",
      "  for k in xrange(n-1,0,-1):\n",
      "    bcopy[k] = bcopy[k]/LU[k,k]\n",
      "    bcopy[:k] = bcopy[:k]-bcopy[k]*LU[:k,k]\n",
      "  \n",
      "  bcopy[0]=bcopy[0]/LU[0,0]\n",
      "  return bcopy"
     ],
     "language": "python",
     "metadata": {},
     "outputs": [],
     "prompt_number": 9
    },
    {
     "cell_type": "code",
     "collapsed": false,
     "input": [
      "a=randn(10,10)\n",
      "b=lu_decomp1(a)\n",
      "b1=lu_decomp(a)\n",
      "b-b1"
     ],
     "language": "python",
     "metadata": {},
     "outputs": [
      {
       "output_type": "pyout",
       "prompt_number": 10,
       "text": [
        "array([[  0.00000000e+00,   0.00000000e+00,   0.00000000e+00,\n",
        "          0.00000000e+00,   0.00000000e+00,   0.00000000e+00,\n",
        "          0.00000000e+00,   0.00000000e+00,   0.00000000e+00,\n",
        "          0.00000000e+00],\n",
        "       [ -5.59436785e+05,   0.00000000e+00,   8.29543764e+04,\n",
        "          1.90995921e+05,   5.72938914e+05,  -3.38468163e+05,\n",
        "          6.76358006e+05,   1.25569653e+05,   2.77487526e+05,\n",
        "         -2.33543738e+05],\n",
        "       [  5.31387453e+05,   7.69519199e-01,  -2.16377444e+04,\n",
        "         -1.81412411e+05,  -5.44196219e+05,   3.21488522e+05,\n",
        "         -6.42427442e+05,  -1.19271083e+05,  -2.63566992e+05,\n",
        "          2.21827145e+05],\n",
        "       [  1.02228255e+06,   1.06623287e+00,  -3.20067818e+00,\n",
        "         -2.25456644e+06,  -1.04689117e+06,   6.18463925e+05,\n",
        "         -1.23586317e+06,  -2.29440055e+05,  -5.07035320e+05,\n",
        "          4.26742801e+05],\n",
        "       [  3.77003176e+05,   7.36696384e-01,  -8.21150248e-01,\n",
        "         -2.02978940e-01,   1.42331853e+08,   2.28095209e+05,\n",
        "         -4.55799769e+05,  -8.46222349e+04,  -1.86999912e+05,\n",
        "          1.57385811e+05],\n",
        "       [ -4.17862305e+05,  -3.31203770e-01,   1.21846636e+00,\n",
        "          4.36581544e-01,   6.57512214e-01,   4.37208154e+13,\n",
        "          5.05156466e+05,   9.37859011e+04,   2.07248992e+05,\n",
        "         -1.74428828e+05],\n",
        "       [ -9.60796434e+05,  -1.77878615e+00,   5.99734639e+00,\n",
        "          2.13230169e+00,   9.39493210e+00,  -1.07593065e+00,\n",
        "         -1.26554558e+13,   2.15660429e+05,   4.76565064e+05,\n",
        "         -4.01100759e+05],\n",
        "       [  2.21183461e+04,   5.55856418e-01,  -1.85445235e+00,\n",
        "         -7.94948263e-01,  -4.21170339e+00,  -2.80257914e+00,\n",
        "          1.00742204e+01,  -5.73560487e+19,  -1.09858901e+04,\n",
        "          9.20318522e+03],\n",
        "       [ -5.57324301e+05,  -8.02043090e-01,   3.38676500e+00,\n",
        "          1.02348336e+00,   3.70260160e+00,   9.19815393e-01,\n",
        "         -1.03365400e+01,   1.22381824e+00,  -7.55556916e+16,\n",
        "         -2.32665328e+05],\n",
        "       [  1.59008099e+06,   1.95369438e+00,  -6.39058131e+00,\n",
        "         -2.23928347e+00,  -4.96086696e+00,   2.06984251e+00,\n",
        "         -1.24730987e+01,   1.56244028e+00,   2.32549069e+20,\n",
        "          5.41037787e+25]])"
       ]
      }
     ],
     "prompt_number": 10
    },
    {
     "cell_type": "code",
     "collapsed": false,
     "input": [
      "def test_nbody(ctx):\n",
      "    order = \"C\"\n",
      "    dtype = np.float32\n",
      "    n=128\n",
      "    r=3\n",
      "    knl = lp.make_kernel(ctx.devices[0],\n",
      "            \"{[k,i]: 0<=k<%d-1 and k+1<=i<%d}\" % (n,n),\n",
      "           [\n",
      "            \n",
      "            \"a[i,k]=1\",\n",
      "            ],\n",
      "            [\n",
      "            lp.GlobalArg(\"a\", dtype, shape=(), order=order),\n",
      "            \n",
      "            ],\n",
      "            name=\"pravaya\")\n",
      "\n",
      "    seq_knl = knl\n",
      "    return knl"
     ],
     "language": "python",
     "metadata": {},
     "outputs": [],
     "prompt_number": 1
    },
    {
     "cell_type": "code",
     "collapsed": false,
     "input": [
      "\n"
     ],
     "language": "python",
     "metadata": {},
     "outputs": [],
     "prompt_number": 3
    },
    {
     "cell_type": "code",
     "collapsed": false,
     "input": [
      "def test_triangle_domain(ctx):\n",
      "  \n",
      "\n",
      "  knl = lp.make_kernel(ctx.devices[0], \n",
      "  [\n",
      "  \"{[i,j]: 0<=i,j<n and i <= j}\",\n",
      "  ],\n",
      "  \"a[i,j] = 17\",\n",
      "  assumptions=\"n>=1\")\n",
      "\n",
      "  print knl\n",
      "  print lp.CompiledKernel(ctx, knl).get_highlighted_code()   "
     ],
     "language": "python",
     "metadata": {},
     "outputs": [],
     "prompt_number": 4
    },
    {
     "cell_type": "code",
     "collapsed": false,
     "input": [
      "\n"
     ],
     "language": "python",
     "metadata": {},
     "outputs": [],
     "prompt_number": 4
    },
    {
     "cell_type": "code",
     "collapsed": false,
     "input": [
      "\n",
      "\n",
      "\n",
      "plt = cl.get_platforms()\n",
      "nvidia_plat = plt[0]\n",
      "ctx = cl.Context(nvidia_plat.get_devices())\n",
      "knl = test_nbody(ctx)\n",
      "queue = cl.CommandQueue(ctx,properties=cl.command_queue_properties.PROFILING_ENABLE)\n",
      "cknl = lp.CompiledKernel(ctx, knl)\n",
      "#cknl.print_code()\n",
      "\n",
      "\n",
      "\n",
      "#n = 128\n",
      "#r = 3\n",
      "\n",
      "#a = np.ones((n, n), dtype = np.float32)\n",
      "#b = np.ones((n, n), dtype = np.float32)\n",
      "#f = np.zeros((n, r), dtype = np.float32)\n",
      "#a = np.random.randn(n, n, n)\n",
      "#v = np.random.randn(n, r)\n",
      "#w = np.random.randn(n,r)\n",
      "parameters = {}\n",
      "evt, (a) = cknl(queue, **parameters)"
     ],
     "language": "python",
     "metadata": {},
     "outputs": [],
     "prompt_number": 8
    },
    {
     "cell_type": "code",
     "collapsed": false,
     "input": [
      "a"
     ],
     "language": "python",
     "metadata": {},
     "outputs": [
      {
       "output_type": "pyout",
       "prompt_number": 10,
       "text": [
        "[array([[ 0.,  0.,  0., ...,  0.,  0.,  0.],\n",
        "       [ 1.,  0.,  0., ...,  0.,  0.,  0.],\n",
        "       [ 1.,  1.,  0., ...,  0.,  0.,  0.],\n",
        "       ..., \n",
        "       [ 1.,  1.,  1., ...,  0.,  0.,  0.],\n",
        "       [ 1.,  1.,  1., ...,  1.,  0.,  0.],\n",
        "       [ 1.,  1.,  1., ...,  1.,  1.,  0.]], dtype=float32)]"
       ]
      }
     ],
     "prompt_number": 10
    },
    {
     "cell_type": "code",
     "collapsed": false,
     "input": [],
     "language": "python",
     "metadata": {},
     "outputs": []
    }
   ],
   "metadata": {}
  }
 ]
}