{
 "metadata": {
  "name": "\u041f\u0440\u0430\u0432\u0430\u044f \u0447\u0430\u0441\u0442\u044c ALS"
 },
 "nbformat": 3,
 "nbformat_minor": 0,
 "worksheets": [
  {
   "cells": [
    {
     "cell_type": "markdown",
     "metadata": {},
     "source": [
      "## \u0422\u0435\u0441\u0442\u0438\u0440\u0443\u0435\u043c \u0432\u043e\u0437\u043c\u043e\u0436\u043d\u043e\u0441\u0442\u0438 loopy\n",
      "\n",
      "$c_{ij} = \\sum_{k} a_{ik} b_{kj}$\n",
      "\n",
      "- \u0420\u0430\u0437\u043e\u0431\u0440\u0430\u0442\u044c\u0441\u044f \u0441 \u0437\u0430\u043f\u0443\u0441\u043a\u043e\u043c **\u044f\u0434\u0440\u0430** (kernel)\n",
      "- \u0412\u044b\u044f\u0441\u043d\u0438\u0442\u044c, \u043d\u0430 \u0447\u0435\u043c \u0437\u0430\u043f\u0443\u0441\u043a\u0430\u0435\u0442\u0441\u044f \u043a\u043e\u0434"
     ]
    },
    {
     "cell_type": "code",
     "collapsed": false,
     "input": [
      "import numpy as np\n",
      "import numpy.linalg as la\n",
      "import pyopencl as cl\n",
      "import pyopencl.array as cl_array\n",
      "import loopy as lp"
     ],
     "language": "python",
     "metadata": {},
     "outputs": [],
     "prompt_number": 1
    },
    {
     "cell_type": "code",
     "collapsed": false,
     "input": [
      "def get_suitable_size(ctx):\n",
      "    dev, = ctx.devices\n",
      "    if dev.type == cl.device_type.CPU:\n",
      "        return 160\n",
      "    else:\n",
      "        return 1600\n",
      "\n",
      "def check_float4(result, ref_result):\n",
      "    for comp in [\"x\", \"y\", \"z\", \"w\"]:\n",
      "        return np.allclose(ref_result[comp], result[comp], rtol=1e-3, atol=1e-3), None\n",
      "    "
     ],
     "language": "python",
     "metadata": {},
     "outputs": [],
     "prompt_number": 2
    },
    {
     "cell_type": "code",
     "collapsed": false,
     "input": [
      "dtype = np.float32\n",
      "plt = cl.get_platforms()\n",
      "nvidia_plat = plt[1]\n",
      "ctx = cl.Context(nvidia_plat.get_devices())\n",
      "n=1024\n",
      "r=20\n",
      "order = \"C\"\n",
      "#knl = lp.make_kernel(ctx.devices[0],\n",
      "#            \"{[i,j,k,s]: 0<=i<%d and 0<=j<%d and 0<=k<%d and 0<=s<%d}\" % (n,n,n,r),\n",
      "#           [\n",
      "#            \"ax(j) := sum_float32(k, a[i,j,k] * w[k,s])\",\n",
      "#            \"in := sum_float32(j, ax(j)*v[j,s])\",\n",
      "#            \"f[i,s] = in\",\n",
      "#            ],\n",
      "#            [\n",
      "#            lp.GlobalArg(\"a\", dtype, shape=(n, n, n), order=order),\n",
      "#            lp.GlobalArg(\"v\", dtype, shape=(n, r), order=order),\n",
      "#            lp.GlobalArg(\"w\", dtype, shape=(n, r), order=order),\n",
      "#            lp.GlobalArg(\"f\", dtype, shape=(n, r), order=order),\n",
      "#            ],\n",
      "#            name=\"pravaya\")\n",
      "#knl = lp.split_iname(knl, \"i\", 16)\n",
      "#knl = lp.split_iname(knl, \"j\", 16)\n",
      "#knl = lp.split_iname(knl, \"k\", 16)\n",
      "\n",
      "\n"
     ],
     "language": "python",
     "metadata": {},
     "outputs": [],
     "prompt_number": 3
    },
    {
     "cell_type": "code",
     "collapsed": false,
     "input": [
      "def test_plain_matrix_mul(ctx):\n",
      "    order = \"C\"\n",
      "\n",
      "\n",
      "    n = 1024\n",
      "    \n",
      "    dtype = np.float32\n",
      "    knl = lp.make_kernel(ctx.devices[0],\n",
      "            \"{[i,j,k]: 0<=i,j,k<%d}\" % n,\n",
      "                [\n",
      "                   \"c[i, j] = sum(k, a[i, k]*b[k, j])\"\n",
      "                ],\n",
      "                [\n",
      "                lp.GlobalArg(\"a\", dtype, shape=(n, n), order=order),\n",
      "                lp.GlobalArg(\"b\", dtype, shape=(n, n), order=order),\n",
      "                lp.GlobalArg(\"c\", dtype, shape=(n, n), order=order),\n",
      "                ],\n",
      "                name=\"matmul\")\n",
      "\n",
      "    ref_knl = knl\n",
      "    knl = lp.split_iname(knl, \"i\", 16,\n",
      "            outer_tag=\"g.0\", inner_tag=\"l.1\")\n",
      "    knl = lp.split_iname(knl, \"j\", 16,\n",
      "            outer_tag=\"g.1\", inner_tag=\"l.0\")\n",
      "    knl = lp.split_iname(knl, \"k\", 16)\n",
      "    knl = lp.add_prefetch(knl, \"a\", [\"k_inner\", \"i_inner\"])\n",
      "    knl = lp.add_prefetch(knl, \"b\", [\"j_inner\", \"k_inner\", ])\n",
      "\n",
      "    kernel_gen = lp.generate_loop_schedules(knl)\n",
      "    #kernel_gen = lp.check_kernels(kernel_gen, {})\n",
      "    return knl\n",
      "\n",
      "knl = test_plain_matrix_mul(ctx)"
     ],
     "language": "python",
     "metadata": {},
     "outputs": [],
     "prompt_number": 4
    },
    {
     "cell_type": "code",
     "collapsed": false,
     "input": [
      "c = np.zeros((n, n), dtype = np.float32)\n",
      "a = np.random.randn(n, n)\n",
      "b = np.random.randn(n, n)\n",
      "a = a.astype(np.float32)\n",
      "b = b.astype(np.float32)\n"
     ],
     "language": "python",
     "metadata": {},
     "outputs": [],
     "prompt_number": 13
    },
    {
     "cell_type": "markdown",
     "metadata": {},
     "source": [
      "# \u041d\u0430\u0431\u043b\u044e\u0434\u0435\u043d\u0438\u044f\n",
      "```\n",
      "read_and_written_args = ( knl.get_read_variables() & knl.get_written_variables() & set(knl.arg_dict))\n",
      "```  \n",
      "\u041f\u0440\u043e\u0432\u0435\u0440\u044f\u0435\u0442, \u043d\u0435\u0442 \u043b\u0438 \u0430\u0440\u0433\u0443\u043c\u0435\u043d\u0442\u043e\u0432, \u043a\u043e\u0442\u043e\u0440\u044b\u0435 \u0438\u0437\u043c\u0435\u043d\u044f\u044e\u0442\u0441\u044f \u0432\u043d\u0443\u0442\u0440\u0438 kernel\n",
      "\n",
      "\u0423\u0440\u0430, \u043c\u044b \u043f\u043e\u043b\u0443\u0447\u0438\u043b\u0438 OpenCL \u043a\u043e\u0434 (\u0438 \u0432\u0438\u0434\u0438\u043c\u043e \u0434\u0430\u0436\u0435 \u0441\u043a\u043e\u043c\u043f\u0438\u043b\u0438\u0440\u043e\u0432\u0430\u043b\u0438).  \n",
      "\u0422\u0435\u043f\u0435\u0440\u044c \u043d\u0443\u0436\u043d\u043e \u0432\u044b\u044f\u0441\u043d\u0438\u0442\u044c, \u043a\u0430\u043a \u0436\u0435 \u0435\u0433\u043e \u0437\u0430\u043f\u0443\u0441\u0442\u0438\u0442\u044c"
     ]
    },
    {
     "cell_type": "code",
     "collapsed": false,
     "input": [
      "plt = cl.get_platforms()\n",
      "nvidia_plat = plt[1]\n",
      "ctx = cl.Context(nvidia_plat.get_devices())\n",
      "#kernel_gen, knl = right(ctx)\n",
      "queue = cl.CommandQueue(ctx)\n",
      "cknl = lp.CompiledKernel(ctx, knl)\n",
      "#cknl.print_code() \n",
      "\n",
      "\n",
      "parameters = {\"a\" : a, \"b\": b}\n",
      "#evt, (f) = cknl(queue, **parameters)\n",
      "knl_gen = lp.generate_loop_schedules(knl)\n",
      "ref_compiled = lp.CompiledKernel(ctx,knl_gen,options=[],codegen_kwargs={})\n",
      "#program = cl.Program(ctx, ref_compiled.code).build()\n",
      "ref_compiled.print_code()"
     ],
     "language": "python",
     "metadata": {},
     "outputs": [
      {
       "output_type": "stream",
       "stream": "stdout",
       "text": [
        "\n",
        "#define lid(N) ((int) get_local_id(N))\n",
        "#define gid(N) ((int) get_group_id(N))\n",
        "\n",
        "__kernel void __attribute__ ((reqd_work_group_size(16, 16, 1))) c(__global float4 const *a, __global float4 const *b, __global float4 *c)\n",
        "{\n",
        "  __local float4 a_fetch_0[16][17];\n",
        "  float4 acc_k_outer_k_inner;\n",
        "  __local float4 b_fetch_0[16][17];\n",
        "\n",
        "  acc_k_outer_k_inner = 0.0f;\n",
        "  for (int k_outer = 0; k_outer <= 63; ++k_outer)\n",
        "  {\n",
        "    barrier(CLK_LOCAL_MEM_FENCE) /* pre-barrier: b_fetch_0 */;\n",
        "    b_fetch_0[lid(1)][lid(0)] = b[1024 * (lid(1) + 16 * k_outer) + lid(0) + 16 * gid(1)];\n",
        "    a_fetch_0[lid(1)][lid(0)] = a[1024 * (lid(1) + 16 * gid(0)) + lid(0) + 16 * k_outer];\n",
        "    barrier(CLK_LOCAL_MEM_FENCE) /* dependency: b_fetch_0 */;\n",
        "    for (int k_inner = 0; k_inner <= 15; ++k_inner)\n",
        "      acc_k_outer_k_inner = acc_k_outer_k_inner + a_fetch_0[lid(1)][k_inner] * b_fetch_0[k_inner][lid(0)];\n",
        "  }\n",
        "  c[1024 * (lid(1) + gid(0) * 16) + lid(0) + gid(1) * 16] = acc_k_outer_k_inner;\n",
        "}\n"
       ]
      }
     ],
     "prompt_number": 23
    },
    {
     "cell_type": "code",
     "collapsed": false,
     "input": [
      "\n"
     ],
     "language": "python",
     "metadata": {},
     "outputs": [],
     "prompt_number": 23
    },
    {
     "cell_type": "code",
     "collapsed": false,
     "input": [
      "\n"
     ],
     "language": "python",
     "metadata": {},
     "outputs": [],
     "prompt_number": 23
    },
    {
     "cell_type": "code",
     "collapsed": false,
     "input": [
      "a1 = cl_array.to_device(queue,a)\n",
      "#a1 = cl.Buffer(ctx, mf.READ_ONLY | mf.COPY_HOST_PTR, hostbuf=a)\n",
      "b1 = cl_array.to_device(queue,b)\n",
      "c1 = cl_array.to_device(queue,c)\n",
      "qq = {\"a\":a1,\"b\":b1,\"c\":c1}\n"
     ],
     "language": "python",
     "metadata": {},
     "outputs": [],
     "prompt_number": 24
    },
    {
     "cell_type": "code",
     "collapsed": false,
     "input": [
      "from pymbolic import evaluate\n",
      "#parameters = {\"n\" : 256}\n",
      "kk = {}\n",
      "for arg in knl.args:\n",
      "    #shape = evaluate(arg.shape, parameters)\n",
      "    #strides = evaluate(arg.strides, parameters)\n",
      "    #from pytools import all\n",
      "    #assert all(s > 0 for s in strides)\n",
      "    #alloc_size = sum(astrd*(alen-1)\n",
      "    #    for alen, astrd in zip(shape, strides)) + 1\n",
      "    #itemsize = arg.dtype.itemsize\n",
      "    #itemsize = 4\n",
      "    #numpy_strides = [itemsize*s for s in strides]\n",
      "    #storage_array = cl_array.empty(queue, alloc_size, arg.dtype)\n",
      "    #kk[arg.name] = cl_array.as_strided(qq[arg.name], shape, numpy_strides)\n",
      "    kk[arg.name] = qq[arg.name].astype(arg.dtype)"
     ],
     "language": "python",
     "metadata": {},
     "outputs": [],
     "prompt_number": 25
    },
    {
     "cell_type": "code",
     "collapsed": false,
     "input": [
      "import time\n",
      "t1 = time.time()\n",
      "frfr = ref_compiled(queue,**kk)\n",
      "print time.time() - t1"
     ],
     "language": "python",
     "metadata": {},
     "outputs": [
      {
       "output_type": "stream",
       "stream": "stdout",
       "text": [
        "0.001305103302\n"
       ]
      }
     ],
     "prompt_number": 26
    },
    {
     "cell_type": "code",
     "collapsed": false,
     "input": [
      "a"
     ],
     "language": "python",
     "metadata": {},
     "outputs": [
      {
       "output_type": "pyout",
       "prompt_number": 34,
       "text": [
        "array([[ (-0.8594398498535156, -0.8594398498535156, -0.8594398498535156, -0.8594398498535156),\n",
        "        (-0.25207260251045227, -0.25207260251045227, -0.25207260251045227, -0.25207260251045227),\n",
        "        (-0.3589065670967102, -0.3589065670967102, -0.3589065670967102, -0.3589065670967102),\n",
        "        ...,\n",
        "        (-0.05452359467744827, -0.05452359467744827, -0.05452359467744827, -0.05452359467744827),\n",
        "        (-1.229884386062622, -1.229884386062622, -1.229884386062622, -1.229884386062622),\n",
        "        (-0.5156047940254211, -0.5156047940254211, -0.5156047940254211, -0.5156047940254211)],\n",
        "       [ (-0.7079424858093262, -0.7079424858093262, -0.7079424858093262, -0.7079424858093262),\n",
        "        (0.18048278987407684, 0.18048278987407684, 0.18048278987407684, 0.18048278987407684),\n",
        "        (1.1083732843399048, 1.1083732843399048, 1.1083732843399048, 1.1083732843399048),\n",
        "        ...,\n",
        "        (0.8684771060943604, 0.8684771060943604, 0.8684771060943604, 0.8684771060943604),\n",
        "        (0.0906466469168663, 0.0906466469168663, 0.0906466469168663, 0.0906466469168663),\n",
        "        (1.0880117416381836, 1.0880117416381836, 1.0880117416381836, 1.0880117416381836)],\n",
        "       [ (0.034530941396951675, 0.034530941396951675, 0.034530941396951675, 0.034530941396951675),\n",
        "        (1.1850932836532593, 1.1850932836532593, 1.1850932836532593, 1.1850932836532593),\n",
        "        (0.8335411548614502, 0.8335411548614502, 0.8335411548614502, 0.8335411548614502),\n",
        "        ...,\n",
        "        (-0.5989329218864441, -0.5989329218864441, -0.5989329218864441, -0.5989329218864441),\n",
        "        (-0.42907342314720154, -0.42907342314720154, -0.42907342314720154, -0.42907342314720154),\n",
        "        (0.7633026242256165, 0.7633026242256165, 0.7633026242256165, 0.7633026242256165)],\n",
        "       ..., \n",
        "       [ (-0.9133468866348267, -0.9133468866348267, -0.9133468866348267, -0.9133468866348267),\n",
        "        (1.7783231735229492, 1.7783231735229492, 1.7783231735229492, 1.7783231735229492),\n",
        "        (1.375311255455017, 1.375311255455017, 1.375311255455017, 1.375311255455017),\n",
        "        ...,\n",
        "        (-0.17351970076560974, -0.17351970076560974, -0.17351970076560974, -0.17351970076560974),\n",
        "        (-0.34704118967056274, -0.34704118967056274, -0.34704118967056274, -0.34704118967056274),\n",
        "        (0.6138825416564941, 0.6138825416564941, 0.6138825416564941, 0.6138825416564941)],\n",
        "       [ (0.7967943549156189, 0.7967943549156189, 0.7967943549156189, 0.7967943549156189),\n",
        "        (-0.6998433470726013, -0.6998433470726013, -0.6998433470726013, -0.6998433470726013),\n",
        "        (-0.0953548476099968, -0.0953548476099968, -0.0953548476099968, -0.0953548476099968),\n",
        "        ...,\n",
        "        (-1.1797257661819458, -1.1797257661819458, -1.1797257661819458, -1.1797257661819458),\n",
        "        (-0.6339989304542542, -0.6339989304542542, -0.6339989304542542, -0.6339989304542542),\n",
        "        (-1.607148289680481, -1.607148289680481, -1.607148289680481, -1.607148289680481)],\n",
        "       [ (0.34348055720329285, 0.34348055720329285, 0.34348055720329285, 0.34348055720329285),\n",
        "        (2.3929169178009033, 2.3929169178009033, 2.3929169178009033, 2.3929169178009033),\n",
        "        (1.9067314863204956, 1.9067314863204956, 1.9067314863204956, 1.9067314863204956),\n",
        "        ...,\n",
        "        (-0.27170541882514954, -0.27170541882514954, -0.27170541882514954, -0.27170541882514954),\n",
        "        (0.02125638723373413, 0.02125638723373413, 0.02125638723373413, 0.02125638723373413),\n",
        "        (1.1201506853103638, 1.1201506853103638, 1.1201506853103638, 1.1201506853103638)]], \n",
        "      dtype=[(('x', 's0'), '<f4'), (('y', 's1'), '<f4'), (('z', 's2'), '<f4'), (('w', 's3'), '<f4')])"
       ]
      }
     ],
     "prompt_number": 34
    },
    {
     "cell_type": "code",
     "collapsed": false,
     "input": [
      "\n",
      "#t1 = time.time()\n",
      "#fuu=zeros((n,r))\n",
      "#for i in xrange (0,n):\n",
      "#    for s in xrange(0,r):\n",
      "#       l=0\n",
      "#       for j in xrange(0,n):\n",
      "#            h=0\n",
      "#            for k in xrange(0,n):\n",
      "#                h=h+a[i,j,k]*w[k,s]\n",
      "#            l=l+h*v[j,s]\n",
      "#       fuu[i,s]=l\n",
      "            \n",
      "#t2 = time.time()\n",
      "#print \"He took time: %f sec\" % (t2 - t1)\n",
      "#print fuu"
     ],
     "language": "python",
     "metadata": {},
     "outputs": [
      {
       "ename": "KeyboardInterrupt",
       "evalue": "",
       "output_type": "pyerr",
       "traceback": [
        "\u001b[1;31m---------------------------------------------------------------------------\u001b[0m\n\u001b[1;31mKeyboardInterrupt\u001b[0m                         Traceback (most recent call last)",
        "\u001b[1;32m<ipython-input-12-bffda1d21ea7>\u001b[0m in \u001b[0;36m<module>\u001b[1;34m()\u001b[0m\n\u001b[0;32m      8\u001b[0m             \u001b[0mh\u001b[0m\u001b[1;33m=\u001b[0m\u001b[1;36m0\u001b[0m\u001b[1;33m\u001b[0m\u001b[0m\n\u001b[0;32m      9\u001b[0m             \u001b[1;32mfor\u001b[0m \u001b[0mk\u001b[0m \u001b[1;32min\u001b[0m \u001b[0mxrange\u001b[0m\u001b[1;33m(\u001b[0m\u001b[1;36m0\u001b[0m\u001b[1;33m,\u001b[0m\u001b[0mn\u001b[0m\u001b[1;33m)\u001b[0m\u001b[1;33m:\u001b[0m\u001b[1;33m\u001b[0m\u001b[0m\n\u001b[1;32m---> 10\u001b[1;33m                 \u001b[0mh\u001b[0m\u001b[1;33m=\u001b[0m\u001b[0mh\u001b[0m\u001b[1;33m+\u001b[0m\u001b[0ma\u001b[0m\u001b[1;33m[\u001b[0m\u001b[0mi\u001b[0m\u001b[1;33m,\u001b[0m\u001b[0mj\u001b[0m\u001b[1;33m,\u001b[0m\u001b[0mk\u001b[0m\u001b[1;33m]\u001b[0m\u001b[1;33m*\u001b[0m\u001b[0mw\u001b[0m\u001b[1;33m[\u001b[0m\u001b[0mk\u001b[0m\u001b[1;33m,\u001b[0m\u001b[0ms\u001b[0m\u001b[1;33m]\u001b[0m\u001b[1;33m\u001b[0m\u001b[0m\n\u001b[0m\u001b[0;32m     11\u001b[0m             \u001b[0ml\u001b[0m\u001b[1;33m=\u001b[0m\u001b[0ml\u001b[0m\u001b[1;33m+\u001b[0m\u001b[0mh\u001b[0m\u001b[1;33m*\u001b[0m\u001b[0mv\u001b[0m\u001b[1;33m[\u001b[0m\u001b[0mj\u001b[0m\u001b[1;33m,\u001b[0m\u001b[0ms\u001b[0m\u001b[1;33m]\u001b[0m\u001b[1;33m\u001b[0m\u001b[0m\n\u001b[0;32m     12\u001b[0m        \u001b[0mfuu\u001b[0m\u001b[1;33m[\u001b[0m\u001b[0mi\u001b[0m\u001b[1;33m,\u001b[0m\u001b[0ms\u001b[0m\u001b[1;33m]\u001b[0m\u001b[1;33m=\u001b[0m\u001b[0ml\u001b[0m\u001b[1;33m\u001b[0m\u001b[0m\n",
        "\u001b[1;31mKeyboardInterrupt\u001b[0m: "
       ]
      }
     ]
    },
    {
     "cell_type": "code",
     "collapsed": false,
     "input": [
      "print fuu"
     ],
     "language": "python",
     "metadata": {},
     "outputs": [
      {
       "output_type": "stream",
       "stream": "stdout",
       "text": [
        "[[  37.63593424 -248.58665367 -406.31411871 ...,  168.63739557\n",
        "   183.37076338 -264.88267052]\n",
        " [-360.99993444 -264.74447896  168.30655508 ...,  179.16915261\n",
        "    73.99431819  469.92512895]\n",
        " [-246.29259572 -564.70867762  234.4584757  ...,  -90.49576144\n",
        "  -138.88922144 -385.14894847]\n",
        " ..., \n",
        " [   0.            0.            0.         ...,    0.            0.            0.        ]\n",
        " [   0.            0.            0.         ...,    0.            0.            0.        ]\n",
        " [   0.            0.            0.         ...,    0.            0.            0.        ]]\n"
       ]
      }
     ],
     "prompt_number": 14
    },
    {
     "cell_type": "code",
     "collapsed": false,
     "input": [
      "ref_compiled.print_code()"
     ],
     "language": "python",
     "metadata": {},
     "outputs": [
      {
       "output_type": "stream",
       "stream": "stdout",
       "text": [
        "\n",
        "#define lid(N) ((int) get_local_id(N))\n",
        "#define gid(N) ((int) get_group_id(N))\n",
        "\n",
        "__kernel void __attribute__ ((reqd_work_group_size(1, 1, 1))) f(__global float const *a, __global float const *v, __global float const *w, __global float *f)\n",
        "{\n",
        "  float acc_k;\n",
        "  float acc_j;\n",
        "\n",
        "  for (int i = 0; i <= 255; ++i)\n",
        "    for (int s = 0; s <= 19; ++s)\n",
        "    {\n",
        "      acc_j = 0.0f;\n",
        "      for (int j = 0; j <= 255; ++j)\n",
        "      {\n",
        "        acc_k = 0.0f;\n",
        "        for (int k = 0; k <= 255; ++k)\n",
        "          acc_k = acc_k + a[65536 * i + 256 * j + k] * w[20 * k + s];\n",
        "        acc_j = acc_j + acc_k * v[20 * j + s];\n",
        "      }\n",
        "      f[20 * i + s] = acc_j;\n",
        "    }\n",
        "}\n"
       ]
      }
     ],
     "prompt_number": 38
    },
    {
     "cell_type": "code",
     "collapsed": false,
     "input": [],
     "language": "python",
     "metadata": {},
     "outputs": [],
     "prompt_number": 134
    },
    {
     "cell_type": "code",
     "collapsed": false,
     "input": [],
     "language": "python",
     "metadata": {},
     "outputs": []
    }
   ],
   "metadata": {}
  }
 ]
}